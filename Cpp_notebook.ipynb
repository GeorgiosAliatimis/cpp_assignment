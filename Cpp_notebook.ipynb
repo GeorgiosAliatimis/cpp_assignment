{
 "cells": [
  {
   "cell_type": "markdown",
   "id": "6b7270a3-484f-41a4-b806-74368d734e34",
   "metadata": {},
   "source": [
    "Include all dependencies used below"
   ]
  },
  {
   "cell_type": "code",
   "execution_count": 1,
   "id": "c6b7d4b7-a0fa-49f9-b1aa-cea5aa0c26f2",
   "metadata": {},
   "outputs": [
    {
     "data": {
      "text/plain": []
     },
     "execution_count": 1,
     "metadata": {},
     "output_type": "execute_result"
    }
   ],
   "source": [
    "#include <unordered_map>\n",
    "#include <iostream>\n",
    "#include <list>\n",
    "#include <vector>\n",
    "#include <set>\n",
    "#include <cassert>  "
   ]
  },
  {
   "cell_type": "markdown",
   "id": "949167f2-d120-4aeb-aa0d-47542049c813",
   "metadata": {},
   "source": [
    "Define the largest integer "
   ]
  },
  {
   "cell_type": "code",
   "execution_count": 2,
   "id": "addd4a02-47a5-48a6-a7e4-cea58614cdb2",
   "metadata": {},
   "outputs": [
    {
     "data": {
      "text/plain": []
     },
     "execution_count": 2,
     "metadata": {},
     "output_type": "execute_result"
    }
   ],
   "source": [
    "int INT_MAX = 2147483647; "
   ]
  },
  {
   "cell_type": "markdown",
   "id": "42afaa1a-0ff9-41f0-809f-c63659c47453",
   "metadata": {},
   "source": [
    "We create an assumptions function that checks all assertions on proposer_table and acceptor_table"
   ]
  },
  {
   "cell_type": "code",
   "execution_count": 3,
   "id": "c835d4f4-b7c8-4d68-9bac-02f7d2fb9d07",
   "metadata": {},
   "outputs": [
    {
     "data": {
      "text/plain": []
     },
     "execution_count": 3,
     "metadata": {},
     "output_type": "execute_result"
    }
   ],
   "source": [
    "template <class T>\n",
    "void assumptions(\n",
    "    std::unordered_map<T,std::list<T>> proposer_table,\n",
    "    std::unordered_map<T,std::vector<T>> acceptor_table\n",
    "){\n",
    "    int n = proposer_table.size(); // table sizes\n",
    "    assert(n<INT_MAX); // ensures that the imaginary undesirable proposer has the highest rank\n",
    "    std::set<T> p_sym, a_sym; // sets of proposer and acceptor symbols\n",
    "    for(auto p: proposer_table) p_sym.insert(p.first);\n",
    "    for(auto a: acceptor_table) a_sym.insert(a.first);\n",
    "\n",
    "    for (auto p : proposer_table){\n",
    "        // A preference list in proposer_table may have the wrong dimension\n",
    "        assert( p.second.size() == n );\n",
    "        std::set<T> remaining = a_sym; \n",
    "        for(auto a: p.second)   remaining.erase(a);\n",
    "        // Mismatch between preference list symbols of proposer_table and acceptor symbols if remaining is not empty.\n",
    "        assert(remaining.empty());\n",
    "    };\n",
    "\n",
    "    for (auto a : acceptor_table){\n",
    "        // A preference list in acceptor_table may have wrong dimension\n",
    "        assert( a.second.size() == n );\n",
    "        std::set<T> remaining = p_sym; \n",
    "        for(auto p: a.second)   remaining.erase(p);\n",
    "        // Mismatch between preference list symbols of acceptor_table and proposer symbols if remaining is not empty.\n",
    "        assert(remaining.empty());\n",
    "    };\n",
    "}"
   ]
  },
  {
   "cell_type": "markdown",
   "id": "af85b148-5850-4754-b9a7-397ec455b0ea",
   "metadata": {},
   "source": [
    "The following function solves the stable matching algorithm according to the fundamental algorithm presented in Chapter 2 page 9 of [Stable Marriage and Its Relation to Other Combinatorial Problems](https://ebookcentral.proquest.com/lib/lancaster/detail.action?docID=4908424).  "
   ]
  },
  {
   "cell_type": "code",
   "execution_count": 4,
   "id": "36a2089a-2561-4584-8970-0a1539e9651d",
   "metadata": {},
   "outputs": [
    {
     "data": {
      "text/plain": []
     },
     "execution_count": 4,
     "metadata": {},
     "output_type": "execute_result"
    }
   ],
   "source": [
    "template <class T>\n",
    "std::unordered_map<T,T> solve_stable_matching(\n",
    "    std::unordered_map<T,std::list<T>> proposer_table,\n",
    "    std::unordered_map<T,std::vector<T>> acceptor_table\n",
    "){\n",
    "    assumptions(proposer_table,acceptor_table);\n",
    "\n",
    "    // Proposer struct    \n",
    "    struct p {\n",
    "        std::unordered_map<T,std::list<T>> table;\n",
    "        std::unordered_map<T,T> matching;\n",
    "    } proposer;\n",
    "    proposer.table = proposer_table;\n",
    "    \n",
    "    // Acceptor struct\n",
    "    struct a {\n",
    "        std::unordered_map<T,std::vector<T>> table;\n",
    "        std::unordered_map<T,std::unordered_map<T,int>> ranks;\n",
    "        std::unordered_map<T,int> curr_rank;\n",
    "    } acceptor;\n",
    "    acceptor.table = acceptor_table;\n",
    "    // For any acceptor a, acceptor.ranks[a] is an unordered_map mapping proposers to their rank \n",
    "    // according to the preferences of acceptor a.\n",
    "    for (auto a : acceptor.table){ \n",
    "        for (int i = 0; i < a.second.size(); i++){\n",
    "            acceptor.ranks[a.first][a.second[i]] = i; \n",
    "        };\n",
    "    };\n",
    "    // For any acceptor a, acceptor.curr_rank[a] is the rank of the proposer p that is currently matched with a.\n",
    "    // In other words if proposer.matching[p]=a, then acceptor.curr_rank[a]=acceptor.ranks[a][p].\n",
    "    // If acceptor a has not been matched with anyone yet, we say that they have been matched with the \"imaginary undesirable proposer\", \n",
    "    // whose rank is INT_MAX (larger than all other ranks).\n",
    "    for (auto a : acceptor.table) acceptor.curr_rank[a.first] = INT_MAX;\n",
    "\n",
    "    // This algorithm closely follows the implementation referenced above\n",
    "    for(auto pl : proposer.table){\n",
    "        T p = pl.first; // current proposer considered\n",
    "        while(true){\n",
    "            T a = proposer.table[p].front(); // favourite acceptor of p\n",
    "            proposer.table[p].pop_front(); // popped so that it is not used again\n",
    "            if (acceptor.ranks[a][p] > acceptor.curr_rank[a]) continue; // in that case a prefers their current proposer to p\n",
    "            // From now on, \"a\" prefers \"p\" to the current matched proposer \n",
    "            int prev_rank = acceptor.curr_rank[a];\n",
    "            acceptor.curr_rank[a] = acceptor.ranks[a][p]; // set curr_rank to the rank of the new proposer\n",
    "            proposer.matching[p]=a; // match p with a\n",
    "            if (prev_rank == INT_MAX) break; // break if the previous proposer was the imaginary undesirable proposer\n",
    "            p = acceptor.table[a][prev_rank]; // else set p to be the previous proposer who should now find a new acceptor\n",
    "        }\n",
    "    }\n",
    "    return proposer.matching; \n",
    "}"
   ]
  },
  {
   "cell_type": "markdown",
   "id": "f5ae229c-67aa-4514-a1fd-9dc29810cabe",
   "metadata": {},
   "source": [
    "We now define the two tables according to the example in page 10 Chapter 2 of [Stable Marriage and Its Relation to Other Combinatorial Problems](https://ebookcentral.proquest.com/lib/lancaster/detail.action?docID=4908424).  "
   ]
  },
  {
   "cell_type": "code",
   "execution_count": 5,
   "id": "7bac0685-f51e-4a4f-91d3-df1b4a6d1006",
   "metadata": {},
   "outputs": [
    {
     "data": {
      "text/plain": [
       "(std::list &) { \"c\", \"a\", \"d\", \"b\" }\n"
      ]
     },
     "execution_count": 5,
     "metadata": {},
     "output_type": "execute_result"
    }
   ],
   "source": [
    "std::unordered_map<std::string,std::list<std::string>> proposer_table;\n",
    "proposer_table[\"A\"] = {\"c\",\"b\",\"d\",\"a\"};\n",
    "proposer_table[\"B\"] = {\"b\",\"a\",\"c\",\"d\"};\n",
    "proposer_table[\"C\"] = {\"b\",\"d\",\"a\",\"c\"};\n",
    "proposer_table[\"D\"] = {\"c\",\"a\",\"d\",\"b\"};"
   ]
  },
  {
   "cell_type": "code",
   "execution_count": 7,
   "id": "5ebf7209-0c0a-4201-9338-303ac7a283b4",
   "metadata": {},
   "outputs": [
    {
     "name": "stdout",
     "output_type": "stream",
     "text": [
      "Solution of the fundamental stable matching algorithm;\n",
      "proposer A --> acceptor d\n",
      "proposer C --> acceptor b\n",
      "proposer D --> acceptor c\n",
      "proposer B --> acceptor a\n"
     ]
    },
    {
     "data": {
      "text/plain": []
     },
     "execution_count": 7,
     "metadata": {},
     "output_type": "execute_result"
    }
   ],
   "source": [
    "auto matching = solve_stable_matching <std::string> (proposer_table,acceptor_table);\n",
    "std::cout << \"Solution of the fundamental stable matching algorithm;\" << std::endl;\n",
    "for(auto& p : matching) std::cout << \"proposer \" << p.first << \" --> acceptor \" << p.second << std::endl;"
   ]
  },
  {
   "cell_type": "markdown",
   "id": "ace4ab16-9b02-4af1-af0f-6c0ca4ee707f",
   "metadata": {},
   "source": [
    "Indeed we get the same answer as in the book referenced above."
   ]
  },
  {
   "cell_type": "markdown",
   "id": "390288e2-f73f-4cf4-a006-16148e877f3b",
   "metadata": {},
   "source": [
    "We put the code from this notebook in textfile format; you can find it in stable_matching.cpp <br>\n",
    "To compile this file we run g++ stable_matching.cpp to get the executable file a.out. <br>\n",
    "To run the executable, type the command ./a.out. <br>\n",
    "Note that you may need to run chmod +x a.out prior to running the executable."
   ]
  },
  {
   "cell_type": "markdown",
   "id": "4f724db8-0e97-47dd-8872-a06a02dd5acf",
   "metadata": {},
   "source": [
    "![Terminal_Output](./terminal_output.png)"
   ]
  }
 ],
 "metadata": {
  "kernelspec": {
   "display_name": "C++17",
   "language": "C++",
   "name": "cling-cpp17"
  },
  "language_info": {
   "codemirror_mode": "c++",
   "file_extension": ".c++",
   "mimetype": "text/x-c++src",
   "name": "c++"
  }
 },
 "nbformat": 4,
 "nbformat_minor": 5
}
